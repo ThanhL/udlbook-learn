{
 "cells": [
  {
   "cell_type": "code",
   "execution_count": 1,
   "id": "a51a63f3",
   "metadata": {},
   "outputs": [],
   "source": [
    "import torch; torch.manual_seed(0)\n",
    "import torch.nn as nn\n",
    "import torch.nn.functional as F\n",
    "import torch.utils\n",
    "import torch.distributions\n",
    "import torchvision\n",
    "import numpy as np\n",
    "import matplotlib.pyplot as plt; plt.rcParams['figure.dpi'] = 200"
   ]
  },
  {
   "cell_type": "code",
   "execution_count": 2,
   "id": "220fc940",
   "metadata": {},
   "outputs": [],
   "source": [
    "device = 'cuda' if torch.cuda.is_available() else 'cpu'"
   ]
  },
  {
   "cell_type": "code",
   "execution_count": 3,
   "id": "a3d2aad4",
   "metadata": {},
   "outputs": [
    {
     "name": "stderr",
     "output_type": "stream",
     "text": [
      "100%|██████████| 9.91M/9.91M [00:02<00:00, 4.16MB/s]\n",
      "100%|██████████| 28.9k/28.9k [00:00<00:00, 127kB/s]\n",
      "100%|██████████| 1.65M/1.65M [00:01<00:00, 1.36MB/s]\n",
      "100%|██████████| 4.54k/4.54k [00:00<00:00, 1.51MB/s]\n"
     ]
    },
    {
     "data": {
      "image/png": "[encoded data removed]",
      "text/plain": [
       "<Figure size 1280x960 with 1 Axes>"
      ]
     },
     "metadata": {},
     "output_type": "display_data"
    },
    {
     "name": "stdout",
     "output_type": "stream",
     "text": [
      "x_shape: torch.Size([128, 1, 28, 28])\n",
      "min: 0.0 max: 1.0\n",
      "mean: 0.13336342573165894, var: 0.09620027244091034\n"
     ]
    }
   ],
   "source": [
    "data = torch.utils.data.DataLoader(\n",
    "    torchvision.datasets.MNIST('./data',\n",
    "    transform=torchvision.transforms.ToTensor(),\n",
    "    download=True),\n",
    "    batch_size=128,\n",
    "    shuffle=True)\n",
    "\n",
    "x, y = next(iter(data))     # Shape: (batch_size, 1, 28, 28)\n",
    "x_sample = torch.permute(x[0], (2, 1, 0))\n",
    "\n",
    "ax = plt.subplot(211)\n",
    "ax.imshow(x_sample, cmap=\"gray\")\n",
    "plt.show()\n",
    "\n",
    "print(f\"x_shape: {x.shape}\")\n",
    "print(f\"min: {torch.min(x_sample)} max: {torch.max(x_sample)}\")\n",
    "print(f\"mean: {torch.mean(x)}, var: {torch.var(x)}\")"
   ]
  },
  {
   "cell_type": "markdown",
   "id": "e578fd7f",
   "metadata": {},
   "source": [
    "### Diffusion Model"
   ]
  },
  {
   "cell_type": "code",
   "execution_count": null,
   "id": "b850d9f5",
   "metadata": {},
   "outputs": [],
   "source": [
    "class Downsample1d(nn.Module):\n",
    "    def __init__(self, dim):\n",
    "        return\n",
    "    \n",
    "    def forward(self, x):\n",
    "        return\n",
    "    \n",
    "class Upsample1d(nn.Module):\n",
    "    def __init__(self, dim):\n",
    "        return\n",
    "    \n",
    "    def forward(self, x):\n",
    "        return \n",
    "\n",
    "# -- Decoder/Encoder\n",
    "class Decoder(nn.Module):\n",
    "    def __init__(self, dim):\n",
    "        super().__init__()\n",
    "    \n",
    "    def forward(self, x):\n",
    "        return\n",
    "    \n",
    "class Encoder(nn.Module):\n",
    "    def __init__(self, dim):\n",
    "        super().__init__()\n",
    "    \n",
    "    def forward(self, x):\n",
    "        return\n",
    "    \n",
    "# def double_conv_block(x, n_filters):\n",
    "#     # Conv2D then ReLU activation\n",
    "#     x = layers.Conv2D(n_filters, 3, padding = \"same\", activation = \"relu\", kernel_initializer = \"he_normal\")(x)\n",
    "#     # Conv2D then ReLU activation\n",
    "#     x = layers.Conv2D(n_filters, 3, padding = \"same\", activation = \"relu\", kernel_initializer = \"he_normal\")(x)\n",
    "\n",
    "#     return x\n",
    "\n",
    "class Downsample(nn.Module):\n",
    "    def __init__(self, in_channels, out_channels, emb_dim=256):\n",
    "        self.conv = nn.Conv1d(in_channels=in_channels,\n",
    "                              out_channels=out_channels,\n",
    "                              kernel_size=3\n",
    "                              stride=2,     # crucial parameter that causes down-sampling\n",
    "                              padding=1)\n",
    "\n",
    "    def forward(self, x):\n",
    "        return self.conv(x)\n",
    "    \n",
    "class Upsample(nn.Module):\n",
    "    def __init__(self, in_channels, out_channels, emb_dim=256):\n",
    "        self.conv = nn.ConvTranspose1d(in_channels=in_channels,\n",
    "                                       out_channels=out_channels,\n",
    "                                       kernel_size=4,\n",
    "                                       stride=2,\n",
    "                                       padding=1)\n",
    "    \n",
    "    def forward(self, x):\n",
    "        return self.conv(x)\n",
    "\n",
    "class DoubleConv(nn.Module):\n",
    "    def __init__(self, dim):\n",
    "        return\n",
    "    \n",
    "# -- U-Net\n",
    "class UNet(nn.Module):\n",
    "    def __init__(self, dim):\n",
    "        super().__init__()\n",
    "\n",
    "        # Down-sample\n",
    "\n",
    "    \n",
    "    def forward(self, x):\n",
    "        return\n",
    "    "
   ]
  }
 ],
 "metadata": {
  "kernelspec": {
   "display_name": "deepl",
   "language": "python",
   "name": "python3"
  },
  "language_info": {
   "codemirror_mode": {
    "name": "ipython",
    "version": 3
   },
   "file_extension": ".py",
   "mimetype": "text/x-python",
   "name": "python",
   "nbconvert_exporter": "python",
   "pygments_lexer": "ipython3",
   "version": "3.10.16"
  }
 },
 "nbformat": 4,
 "nbformat_minor": 5
}
